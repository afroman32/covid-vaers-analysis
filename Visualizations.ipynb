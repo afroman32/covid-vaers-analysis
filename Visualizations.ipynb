{
 "cells": [
  {
   "cell_type": "code",
   "execution_count": null,
   "source": [],
   "outputs": [],
   "metadata": {}
  },
  {
   "cell_type": "code",
   "execution_count": 1,
   "source": [
    "import matplotlib.pyplot as plt\r\n",
    "import numpy as np"
   ],
   "outputs": [
    {
     "output_type": "error",
     "ename": "ModuleNotFoundError",
     "evalue": "No module named 'matplotlib'",
     "traceback": [
      "\u001b[1;31m---------------------------------------------------------------------------\u001b[0m",
      "\u001b[1;31mModuleNotFoundError\u001b[0m                       Traceback (most recent call last)",
      "\u001b[1;32m<ipython-input-1-1ad08accc8a5>\u001b[0m in \u001b[0;36m<module>\u001b[1;34m\u001b[0m\n\u001b[1;32m----> 1\u001b[1;33m \u001b[1;32mimport\u001b[0m \u001b[0mmatplotlib\u001b[0m\u001b[1;33m.\u001b[0m\u001b[0mpyplot\u001b[0m \u001b[1;32mas\u001b[0m \u001b[0mplt\u001b[0m\u001b[1;33m\u001b[0m\u001b[1;33m\u001b[0m\u001b[0m\n\u001b[0m\u001b[0;32m      2\u001b[0m \u001b[1;32mimport\u001b[0m \u001b[0mnumpy\u001b[0m \u001b[1;32mas\u001b[0m \u001b[0mnp\u001b[0m\u001b[1;33m\u001b[0m\u001b[1;33m\u001b[0m\u001b[0m\n",
      "\u001b[1;31mModuleNotFoundError\u001b[0m: No module named 'matplotlib'"
     ]
    }
   ],
   "metadata": {}
  },
  {
   "cell_type": "code",
   "execution_count": null,
   "source": [
    "labels = ['G1', 'G2', 'G3', 'G4', 'G5']\r\n",
    "men_means = [20, 34, 30, 35, 27]\r\n",
    "women_means = [25, 32, 34, 20, 25]\r\n",
    "\r\n",
    "x = np.arange(len(labels))  # the label locations\r\n",
    "width = 0.35  # the width of the bars\r\n",
    "\r\n",
    "fig, ax = plt.subplots()\r\n",
    "rects1 = ax.bar(x - width/2, men_means, width, label='Men')\r\n",
    "rects2 = ax.bar(x + width/2, women_means, width, label='Women')\r\n",
    "\r\n",
    "# Add some text for labels, title and custom x-axis tick labels, etc.\r\n",
    "ax.set_ylabel('Scores')\r\n",
    "ax.set_title('Scores by group and gender')\r\n",
    "ax.set_xticks(x)\r\n",
    "ax.set_xticklabels(labels)\r\n",
    "ax.legend()\r\n",
    "\r\n",
    "# ax.bar_label(rects1, padding=3)\r\n",
    "# ax.bar_label(rects2, padding=3)\r\n",
    "\r\n",
    "fig.tight_layout()\r\n",
    "\r\n",
    "plt.show()"
   ],
   "outputs": [],
   "metadata": {}
  }
 ],
 "metadata": {
  "orig_nbformat": 4,
  "language_info": {
   "name": "python",
   "version": "3.8.1",
   "mimetype": "text/x-python",
   "codemirror_mode": {
    "name": "ipython",
    "version": 3
   },
   "pygments_lexer": "ipython3",
   "nbconvert_exporter": "python",
   "file_extension": ".py"
  },
  "kernelspec": {
   "name": "python3",
   "display_name": "Python 3.8.1 32-bit"
  },
  "interpreter": {
   "hash": "f2491d5e1a2826ca13477a89cb0e5adcf6e5b5df24b931997ec42e9d56eb14fd"
  }
 },
 "nbformat": 4,
 "nbformat_minor": 2
}